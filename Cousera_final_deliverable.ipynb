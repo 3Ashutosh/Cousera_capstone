{
    "nbformat_minor": 1, 
    "cells": [
        {
            "source": "# Business Problem section", 
            "cell_type": "markdown", 
            "metadata": {}
        }, 
        {
            "source": "## Background\n\nAccording to Bloomberg News, the London Housing Market is in a bad condition.It is now facing a number of different headwinds, including the prospect of higher taxes,hidden price falls, record-low sales, homebuilder exodus.", 
            "cell_type": "markdown", 
            "metadata": {
                "collapsed": true
            }
        }, 
        {
            "source": "## Buisness Problem\n\nIn this situation, It is crucial to adopt analytics techniques in order to assis homebuyers in London to make wise and effective decisions. As a result,  We need to provide help to homebuyers and investors to purchase a suitable house/property in london in this uncertain economic scenario,how could we do that?\n", 
            "cell_type": "markdown", 
            "metadata": {}
        }, 
        {
            "source": "## Data section\n\nData on London properties and the relative price paid data were extracted from the HM Land Registry. The following fields comprise the address data included in Price Paid Data: Postcode; PAON Primary Addressable Object Name. Typically the house number or name; SAON Secondary Addressable Object Name. If there is a sub-building, for example, the building is divided into flats, there will be a SAON; Street; Locality; Town/City; District; County.\nTo explore and target recommended locations across different venues according to the presence of amenities and essential facilities, we will access data through FourSquare API interface and arrange them as a dataframe for visualization. By merging data on London properties and the relative price paid data from the HM Land Registry and data on amenities and essential facilities surrounding such properties from FourSquare API interface, we will be able to recommend profitable real estate investments.", 
            "cell_type": "markdown", 
            "metadata": {}
        }, 
        {
            "source": "", 
            "cell_type": "code", 
            "metadata": {}, 
            "outputs": [], 
            "execution_count": null
        }, 
        {
            "source": "", 
            "cell_type": "code", 
            "metadata": {}, 
            "outputs": [], 
            "execution_count": null
        }, 
        {
            "source": "", 
            "cell_type": "code", 
            "metadata": {}, 
            "outputs": [], 
            "execution_count": null
        }, 
        {
            "source": "", 
            "cell_type": "code", 
            "metadata": {}, 
            "outputs": [], 
            "execution_count": null
        }, 
        {
            "source": "", 
            "cell_type": "code", 
            "metadata": {}, 
            "outputs": [], 
            "execution_count": null
        }
    ], 
    "metadata": {
        "kernelspec": {
            "display_name": "Python 3.6", 
            "name": "python3", 
            "language": "python"
        }, 
        "language_info": {
            "mimetype": "text/x-python", 
            "nbconvert_exporter": "python", 
            "version": "3.6.8", 
            "name": "python", 
            "pygments_lexer": "ipython3", 
            "file_extension": ".py", 
            "codemirror_mode": {
                "version": 3, 
                "name": "ipython"
            }
        }
    }, 
    "nbformat": 4
}